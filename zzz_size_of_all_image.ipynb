{
 "cells": [
  {
   "cell_type": "code",
   "execution_count": 1,
   "id": "ab0c4a62",
   "metadata": {},
   "outputs": [],
   "source": [
    "import glob\n",
    "from PIL import Image\n",
    "import torchvision\n",
    "from tqdm import tqdm"
   ]
  },
  {
   "cell_type": "code",
   "execution_count": 2,
   "id": "196e5902",
   "metadata": {},
   "outputs": [],
   "source": [
    "TRAIN_IMAGES = sorted(glob.glob(\"/home/shirshak/Thesis_Data/Steel_Scrap_detection/train/images/*\"))\n",
    "VAL_IMAGES = sorted(glob.glob(\"/home/shirshak/Thesis_Data/Steel_Scrap_detection/valid/images/*\"))\n",
    "TEST_IMAGES = sorted(glob.glob(\"/home/shirshak/Thesis_Data/Steel_Scrap_detection/test/images/*\"))"
   ]
  },
  {
   "cell_type": "code",
   "execution_count": 3,
   "metadata": {},
   "outputs": [
    {
     "name": "stderr",
     "output_type": "stream",
     "text": [
      "100%|██████████| 794/794 [00:04<00:00, 192.26it/s]\n"
     ]
    }
   ],
   "source": [
    "with open(\"shape_of_train_file.txt\", \"w\") as file:\n",
    "    for image in tqdm(TRAIN_IMAGES):\n",
    "        shape = torchvision.transforms.ToTensor()(Image.open(image)).shape\n",
    "        file.write(f\"{image.split('/')[-1]}: {shape}\\n\")"
   ]
  },
  {
   "cell_type": "code",
   "execution_count": 4,
   "id": "3ba9bad2",
   "metadata": {},
   "outputs": [
    {
     "name": "stderr",
     "output_type": "stream",
     "text": [
      "100%|██████████| 79/79 [00:00<00:00, 145.04it/s]\n"
     ]
    }
   ],
   "source": [
    "with open(\"shape_of_valid_file.txt\", \"w\") as file:\n",
    "    for image in tqdm(VAL_IMAGES):\n",
    "        shape = torchvision.transforms.ToTensor()(Image.open(image)).shape\n",
    "        file.write(f\"{image.split('/')[-1]}: {shape}\\n\")"
   ]
  },
  {
   "cell_type": "code",
   "execution_count": 5,
   "id": "4ae5c376",
   "metadata": {},
   "outputs": [
    {
     "name": "stderr",
     "output_type": "stream",
     "text": [
      "100%|██████████| 34/34 [00:00<00:00, 183.14it/s]\n"
     ]
    }
   ],
   "source": [
    "with open(\"shape_of_test_file.txt\", \"w\") as file:\n",
    "    for image in tqdm(TEST_IMAGES):\n",
    "        shape = torchvision.transforms.ToTensor()(Image.open(image)).shape\n",
    "        file.write(f\"{image.split('/')[-1]}: {shape}\\n\")"
   ]
  },
  {
   "cell_type": "code",
   "execution_count": null,
   "id": "37267444",
   "metadata": {},
   "outputs": [],
   "source": []
  },
  {
   "cell_type": "code",
   "execution_count": null,
   "id": "75c2bab5",
   "metadata": {},
   "outputs": [],
   "source": []
  },
  {
   "cell_type": "code",
   "execution_count": null,
   "id": "384db2d4",
   "metadata": {},
   "outputs": [],
   "source": []
  },
  {
   "cell_type": "code",
   "execution_count": null,
   "id": "50f58a83",
   "metadata": {},
   "outputs": [],
   "source": []
  },
  {
   "cell_type": "code",
   "execution_count": null,
   "metadata": {},
   "outputs": [],
   "source": []
  },
  {
   "cell_type": "code",
   "execution_count": null,
   "metadata": {},
   "outputs": [],
   "source": []
  }
 ],
 "metadata": {
  "kernelspec": {
   "display_name": ".venv",
   "language": "python",
   "name": "python3"
  },
  "language_info": {
   "codemirror_mode": {
    "name": "ipython",
    "version": 3
   },
   "file_extension": ".py",
   "mimetype": "text/x-python",
   "name": "python",
   "nbconvert_exporter": "python",
   "pygments_lexer": "ipython3",
   "version": "3.10.12"
  }
 },
 "nbformat": 4,
 "nbformat_minor": 5
}
